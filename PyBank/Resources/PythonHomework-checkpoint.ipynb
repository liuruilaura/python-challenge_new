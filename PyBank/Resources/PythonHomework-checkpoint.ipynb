{
 "cells": [
  {
   "cell_type": "code",
   "execution_count": 9,
   "id": "2f3e2c70-3e70-47d8-9e54-2352d55ee111",
   "metadata": {
    "scrolled": true
   },
   "outputs": [],
   "source": [
    "import pandas as pd\n",
    "\n",
    "# Read CSV File\n",
    "df = pd.read_csv('budget_data.csv')\n"
   ]
  },
  {
   "cell_type": "code",
   "execution_count": 4,
   "id": "ba5fbb94-548b-4de9-9eb3-9ef28abcb10d",
   "metadata": {},
   "outputs": [],
   "source": [
    "# Total Number of Months\n",
    "total_months = len(df)"
   ]
  },
  {
   "cell_type": "code",
   "execution_count": 5,
   "id": "885dad45-e44e-4d84-83c3-55891b30e6a4",
   "metadata": {},
   "outputs": [],
   "source": [
    "# The net total amount of \"Profit/Losses\" over the entire period\n",
    "net_total = df['Profit/Losses'].sum()"
   ]
  },
  {
   "cell_type": "code",
   "execution_count": 6,
   "id": "6bab15f6-a1e9-49df-bf81-c826d112fa94",
   "metadata": {},
   "outputs": [],
   "source": [
    "# The changes in \"Profit/Losses\" over the entire period, and then the average of those changes\n",
    "df['Profit/Losses Change'] = df['Profit/Losses'].diff()\n",
    "average_change = df['Profit/Losses Change'].mean()"
   ]
  },
  {
   "cell_type": "code",
   "execution_count": 7,
   "id": "f7d9a67b-7b8e-4824-8fb6-080c57009774",
   "metadata": {},
   "outputs": [],
   "source": [
    "# The greatest increase in profits (date and amount) over the entire period\n",
    "greatest_increase = df['Profit/Losses Change'].max()\n",
    "greatest_increase_date = df.loc[df['Profit/Losses Change'] == greatest_increase, 'Date'].iloc[0]\n",
    "\n",
    "# The greatest increase in profits (date and amount) over the entire period\n",
    "greatest_decrease = df['Profit/Losses Change'].min()\n",
    "greatest_decrease_date = df.loc[df['Profit/Losses Change'] == greatest_decrease, 'Date'].iloc[0]"
   ]
  },
  {
   "cell_type": "code",
   "execution_count": 8,
   "id": "e936d2ab-0143-4cee-b0fc-28bb4695ae5c",
   "metadata": {},
   "outputs": [
    {
     "name": "stdout",
     "output_type": "stream",
     "text": [
      "Financial Analysis\n",
      "------------------------------\n",
      "Total Months: 86\n",
      "Total: $22564198\n",
      "Average Change: $-8311.11\n",
      "Greatest Increase in Profits: Aug-16 ($1862002)\n",
      "Greatest Decrease in Profits: Feb-14 ($-1825558)\n"
     ]
    }
   ],
   "source": [
    "# Print the analysis\n",
    "separator = '-' * 30\n",
    "print(\"Financial Analysis\")\n",
    "print(separator)\n",
    "print(f\"Total Months: {total_months}\")\n",
    "print(f\"Total: ${net_total}\")\n",
    "print(f\"Average Change: ${average_change:.2f}\")\n",
    "print(f\"Greatest Increase in Profits: {greatest_increase_date} (${int(greatest_increase)})\")\n",
    "print(f\"Greatest Decrease in Profits: {greatest_decrease_date} (${int(greatest_decrease)})\")"
   ]
  },
  {
   "cell_type": "code",
   "execution_count": null,
   "id": "3a1d6ecc-786d-4cb7-a5a6-bfba725516a5",
   "metadata": {},
   "outputs": [],
   "source": []
  }
 ],
 "metadata": {
  "kernelspec": {
   "display_name": "Python 3 (ipykernel)",
   "language": "python",
   "name": "python3"
  },
  "language_info": {
   "codemirror_mode": {
    "name": "ipython",
    "version": 3
   },
   "file_extension": ".py",
   "mimetype": "text/x-python",
   "name": "python",
   "nbconvert_exporter": "python",
   "pygments_lexer": "ipython3",
   "version": "3.11.5"
  }
 },
 "nbformat": 4,
 "nbformat_minor": 5
}
