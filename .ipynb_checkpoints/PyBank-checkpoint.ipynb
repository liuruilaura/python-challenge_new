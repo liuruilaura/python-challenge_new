{
 "cells": [
  {
   "cell_type": "code",
   "execution_count": 40,
   "id": "73afc632-fa9a-457b-962a-ee64be543481",
   "metadata": {},
   "outputs": [
    {
     "name": "stdout",
     "output_type": "stream",
     "text": [
      "Financial Analysis\n",
      "-----------------------------\n",
      "Total Months: 86\n",
      "Total: $22564198\n",
      "Average Change: $-8311.11\n",
      "Greatest Increase in Profits: Aug-16 ($1862002)\n",
      "Greatest Decrease in Profits: Feb-14 ($-1825558)\n"
     ]
    }
   ],
   "source": [
    "import os\n",
    "import csv\n",
    "\n",
    "file_path = 'PyBank/Resources/budget_data.csv'\n",
    "\n",
    "# Lists to store data\n",
    "total_months = 0\n",
    "net_total = 0\n",
    "previous_value = None\n",
    "monthly_changes = []\n",
    "greatest_increase = [\"\", 0] \n",
    "greatest_decrease = [\"\", 0]  \n",
    "\n",
    "# Open and read the CSV file\n",
    "with open(file_path, mode='r', newline='', encoding='utf-8') as csvfile:\n",
    "    csv_reader = csv.reader(csvfile)\n",
    "    header = next(csv_reader)  \n",
    "\n",
    "    # Loop through each row in the CSV file\n",
    "    for row in csv_reader:\n",
    "        # Count the total number of months\n",
    "        total_months += 1\n",
    "\n",
    "        # Sum up the total \"Profit/Losses\"\n",
    "        current_value = int(row[1])\n",
    "        net_total += current_value\n",
    "\n",
    "        # Calculate the monthly change and update the greatest increase/decrease\n",
    "        if previous_value is not None:\n",
    "            change = current_value - previous_value\n",
    "            monthly_changes.append(change)\n",
    "\n",
    "            if change > greatest_increase[1]:\n",
    "                greatest_increase = [row[0], change]\n",
    "\n",
    "            if change < greatest_decrease[1]:\n",
    "                greatest_decrease = [row[0], change]\n",
    "\n",
    "        previous_value = current_value\n",
    "\n",
    "# Calculate the average change in \"Profit/Losses\"\n",
    "average_change = sum(monthly_changes) / len(monthly_changes) if monthly_changes else 0\n",
    "\n",
    "# Prepare the analysis output\n",
    "output = (\n",
    "    \"Financial Analysis\\n\"\n",
    "    \"-----------------------------\\n\"\n",
    "    f\"Total Months: {total_months}\\n\"\n",
    "    f\"Total: ${net_total}\\n\"\n",
    "    f\"Average Change: ${average_change:.2f}\\n\"\n",
    "    f\"Greatest Increase in Profits: {greatest_increase[0]} (${greatest_increase[1]})\\n\"\n",
    "    f\"Greatest Decrease in Profits: {greatest_decrease[0]} (${greatest_decrease[1]})\"\n",
    ")\n",
    "\n",
    "# Print the analysis to the terminal\n",
    "print(output)\n",
    "\n",
    "# Define the output file path\n",
    "output_file_path = 'PyBank/Resources/financial_analysis.txt'  \n",
    "\n",
    "# Write the results to a text file\n",
    "with open(output_file_path, 'w', encoding='utf-8') as textfile:\n",
    "    textfile.write(output)\n",
    "\n"
   ]
  },
  {
   "cell_type": "code",
   "execution_count": null,
   "id": "1445fc7a-5d57-41cd-aecb-638142f743dc",
   "metadata": {},
   "outputs": [],
   "source": []
  },
  {
   "cell_type": "code",
   "execution_count": null,
   "id": "85f374ed-bc9b-4e04-ae8f-edb0397c694d",
   "metadata": {},
   "outputs": [],
   "source": []
  }
 ],
 "metadata": {
  "kernelspec": {
   "display_name": "Python 3 (ipykernel)",
   "language": "python",
   "name": "python3"
  },
  "language_info": {
   "codemirror_mode": {
    "name": "ipython",
    "version": 3
   },
   "file_extension": ".py",
   "mimetype": "text/x-python",
   "name": "python",
   "nbconvert_exporter": "python",
   "pygments_lexer": "ipython3",
   "version": "3.11.5"
  }
 },
 "nbformat": 4,
 "nbformat_minor": 5
}
