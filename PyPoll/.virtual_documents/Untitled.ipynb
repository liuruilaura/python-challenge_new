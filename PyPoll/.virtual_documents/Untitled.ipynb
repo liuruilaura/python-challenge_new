import csv
import os

# Define the file path to your CSV file

file_path = 'Resources/election_data.csv'

# Initialize variables
total_votes = 0
candidates = {}

# Open and read the CSV file
with open(file_path, mode='r', newline='', encoding='utf-8') as csvfile:
    csv_reader = csv.reader(csvfile)
    next(csv_reader)  

    # Loop through each row in the CSV file
    for row in csv_reader:
        total_votes += 1
        candidate_name = row[2]  # Assuming the candidate's name is in the third column

        # If the candidate is not in the dictionary, add them
        if candidate_name not in candidates:
            candidates[candidate_name] = 0
        candidates[candidate_name] += 1

# Prepare the analysis output
output = (
    "Election Results\n"
    "-------------------------\n"
    f"Total Votes: {total_votes}\n"
    "-------------------------\n"
)

# Calculate and add candidate results to the output
for candidate, votes in candidates.items():
    percentage = (votes / total_votes) * 100
    output += f"{candidate}: {percentage:.3f}% ({votes})\n"

# Determine the winner
winner = max(candidates, key=candidates.get)
output += "-------------------------\n"
output += f"Winner: {winner}\n"
output += "-------------------------"

# Print the analysis to the terminal
print(output)

# Write the results to a text file
output_file_path = 'Analysis/election_analysis.txt'  
with open(output_file_path, 'w', encoding='utf-8') as textfile:
    textfile.write(output)




