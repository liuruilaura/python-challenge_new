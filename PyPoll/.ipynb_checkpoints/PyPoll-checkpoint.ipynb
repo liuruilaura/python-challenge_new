{
 "cells": [
  {
   "cell_type": "code",
   "execution_count": 16,
   "id": "e599aee1-4a26-4377-8d08-0156302c38c1",
   "metadata": {},
   "outputs": [
    {
     "name": "stdout",
     "output_type": "stream",
     "text": [
      "Election Results\n",
      "-------------------------\n",
      "Total Votes: 369711\n",
      "-------------------------\n",
      "Charles Casper Stockham: 23.049% (85213)\n",
      "Diana DeGette: 73.812% (272892)\n",
      "Raymon Anthony Doane: 3.139% (11606)\n",
      "-------------------------\n",
      "Winner: Diana DeGette\n",
      "-------------------------\n"
     ]
    }
   ],
   "source": [
    "import csv\n",
    "import os\n",
    "\n",
    "# Define the file path to your CSV file\n",
    "\n",
    "file_path = 'Resources/election_data.csv'\n",
    "\n",
    "# Initialize variables\n",
    "total_votes = 0\n",
    "candidates = {}\n",
    "\n",
    "# Open and read the CSV file\n",
    "with open(file_path, mode='r', newline='', encoding='utf-8') as csvfile:\n",
    "    csv_reader = csv.reader(csvfile)\n",
    "    next(csv_reader)  \n",
    "\n",
    "    # Loop through each row in the CSV file\n",
    "    for row in csv_reader:\n",
    "        total_votes += 1\n",
    "        candidate_name = row[2]  # Assuming the candidate's name is in the third column\n",
    "\n",
    "        # If the candidate is not in the dictionary, add them\n",
    "        if candidate_name not in candidates:\n",
    "            candidates[candidate_name] = 0\n",
    "        candidates[candidate_name] += 1\n",
    "\n",
    "# Prepare the analysis output\n",
    "output = (\n",
    "    \"Election Results\\n\"\n",
    "    \"-------------------------\\n\"\n",
    "    f\"Total Votes: {total_votes}\\n\"\n",
    "    \"-------------------------\\n\"\n",
    ")\n",
    "\n",
    "# Calculate and add candidate results to the output\n",
    "for candidate, votes in candidates.items():\n",
    "    percentage = (votes / total_votes) * 100\n",
    "    output += f\"{candidate}: {percentage:.3f}% ({votes})\\n\"\n",
    "\n",
    "# Determine the winner\n",
    "winner = max(candidates, key=candidates.get)\n",
    "output += \"-------------------------\\n\"\n",
    "output += f\"Winner: {winner}\\n\"\n",
    "output += \"-------------------------\"\n",
    "\n",
    "# Print the analysis to the terminal\n",
    "print(output)\n",
    "\n",
    "# Write the results to a text file\n",
    "output_file_path = 'Analysis/election_analysis.txt'  \n",
    "with open(output_file_path, 'w', encoding='utf-8') as textfile:\n",
    "    textfile.write(output)\n"
   ]
  },
  {
   "cell_type": "code",
   "execution_count": null,
   "id": "c2c26375-7251-43ca-8624-17af28a61b7b",
   "metadata": {},
   "outputs": [],
   "source": []
  }
 ],
 "metadata": {
  "kernelspec": {
   "display_name": "Python 3 (ipykernel)",
   "language": "python",
   "name": "python3"
  },
  "language_info": {
   "codemirror_mode": {
    "name": "ipython",
    "version": 3
   },
   "file_extension": ".py",
   "mimetype": "text/x-python",
   "name": "python",
   "nbconvert_exporter": "python",
   "pygments_lexer": "ipython3",
   "version": "3.11.5"
  }
 },
 "nbformat": 4,
 "nbformat_minor": 5
}
